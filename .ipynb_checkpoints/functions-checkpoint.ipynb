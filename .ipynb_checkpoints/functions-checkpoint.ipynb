{
 "cells": [
  {
   "cell_type": "code",
   "execution_count": 1,
   "metadata": {},
   "outputs": [
    {
     "name": "stdout",
     "output_type": "stream",
     "text": [
      "['€5.71', '€2.86', '€2.14'] ['€0.71', '€0.57'] ['€1.43', '€1.36', '€2.14']\n"
     ]
    }
   ],
   "source": [
    "def to_euro(price):  \n",
    "    exchange_rate = 70  \n",
    "    rounded = round(price/exchange_rate, 2)  \n",
    "    return '€' + str(rounded)  \n",
    "  \n",
    "def db_to_euro(db):  \n",
    "    return [to_euro(item['price']) for item in db]  \n",
    "  \n",
    "  \n",
    "ticket_db = [{'price': 400}, {'price': 200}, {'price': 150}]  \n",
    "guide_db = [{'price': 50}, {'price': 40}]  \n",
    "snack_db = [{'price': 100}, {'price': 95}, {'price': 150}]  \n",
    "  \n",
    "tickets_euro = db_to_euro(ticket_db)  \n",
    "guides_euro = db_to_euro(guide_db)  \n",
    "snacks_euro = db_to_euro(snack_db)  \n",
    "  \n",
    "print(tickets_euro, guides_euro, snacks_euro)  \n",
    "# => ['€5.71', '€2.86', '€2.14'] ['€0.71', '€0.57'] ['€1.43', '€1.36', '€2.14']  "
   ]
  },
  {
   "cell_type": "code",
   "execution_count": null,
   "metadata": {},
   "outputs": [],
   "source": []
  }
 ],
 "metadata": {
  "kernelspec": {
   "display_name": "Python 3",
   "language": "python",
   "name": "python3"
  },
  "language_info": {
   "codemirror_mode": {
    "name": "ipython",
    "version": 3
   },
   "file_extension": ".py",
   "mimetype": "text/x-python",
   "name": "python",
   "nbconvert_exporter": "python",
   "pygments_lexer": "ipython3",
   "version": "3.8.3"
  }
 },
 "nbformat": 4,
 "nbformat_minor": 4
}
